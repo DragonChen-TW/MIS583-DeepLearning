{
 "cells": [
  {
   "cell_type": "code",
   "execution_count": 1,
   "metadata": {},
   "outputs": [
    {
     "name": "stderr",
     "output_type": "stream",
     "text": [
      "Some weights of the model checkpoint at bert-base-uncased were not used when initializing BertForSequenceClassification: ['cls.predictions.bias', 'cls.predictions.transform.dense.weight', 'cls.predictions.transform.dense.bias', 'cls.predictions.decoder.weight', 'cls.seq_relationship.weight', 'cls.seq_relationship.bias', 'cls.predictions.transform.LayerNorm.weight', 'cls.predictions.transform.LayerNorm.bias']\n",
      "- This IS expected if you are initializing BertForSequenceClassification from the checkpoint of a model trained on another task or with another architecture (e.g. initializing a BertForSequenceClassification model from a BertForPreTraining model).\n",
      "- This IS NOT expected if you are initializing BertForSequenceClassification from the checkpoint of a model that you expect to be exactly identical (initializing a BertForSequenceClassification model from a BertForSequenceClassification model).\n",
      "Some weights of BertForSequenceClassification were not initialized from the model checkpoint at bert-base-uncased and are newly initialized: ['classifier.weight', 'classifier.bias']\n",
      "You should probably TRAIN this model on a down-stream task to be able to use it for predictions and inference.\n",
      "Some weights of the model checkpoint at roberta-base were not used when initializing RobertaForSequenceClassification: ['lm_head.bias', 'lm_head.dense.weight', 'lm_head.dense.bias', 'lm_head.layer_norm.weight', 'lm_head.layer_norm.bias', 'lm_head.decoder.weight', 'roberta.pooler.dense.weight', 'roberta.pooler.dense.bias']\n",
      "- This IS expected if you are initializing RobertaForSequenceClassification from the checkpoint of a model trained on another task or with another architecture (e.g. initializing a BertForSequenceClassification model from a BertForPreTraining model).\n",
      "- This IS NOT expected if you are initializing RobertaForSequenceClassification from the checkpoint of a model that you expect to be exactly identical (initializing a BertForSequenceClassification model from a BertForSequenceClassification model).\n",
      "Some weights of RobertaForSequenceClassification were not initialized from the model checkpoint at roberta-base and are newly initialized: ['classifier.dense.weight', 'classifier.dense.bias', 'classifier.out_proj.weight', 'classifier.out_proj.bias']\n",
      "You should probably TRAIN this model on a down-stream task to be able to use it for predictions and inference.\n",
      "Special tokens have been added in the vocabulary, make sure the associated word embedding are fine-tuned or trained.\n",
      "Some weights of the model checkpoint at vinai/bertweet-base were not used when initializing RobertaForSequenceClassification: ['lm_head.bias', 'lm_head.dense.weight', 'lm_head.dense.bias', 'lm_head.layer_norm.weight', 'lm_head.layer_norm.bias', 'lm_head.decoder.weight', 'lm_head.decoder.bias', 'roberta.pooler.dense.weight', 'roberta.pooler.dense.bias']\n",
      "- This IS expected if you are initializing RobertaForSequenceClassification from the checkpoint of a model trained on another task or with another architecture (e.g. initializing a BertForSequenceClassification model from a BertForPreTraining model).\n",
      "- This IS NOT expected if you are initializing RobertaForSequenceClassification from the checkpoint of a model that you expect to be exactly identical (initializing a BertForSequenceClassification model from a BertForSequenceClassification model).\n",
      "Some weights of RobertaForSequenceClassification were not initialized from the model checkpoint at vinai/bertweet-base and are newly initialized: ['classifier.dense.weight', 'classifier.dense.bias', 'classifier.out_proj.weight', 'classifier.out_proj.bias']\n",
      "You should probably TRAIN this model on a down-stream task to be able to use it for predictions and inference.\n"
     ]
    }
   ],
   "source": [
    "from torch import nn\n",
    "\n",
    "from transformers import BertTokenizer, BertForSequenceClassification\n",
    "\n",
    "bert_tokenizer = BertTokenizer.from_pretrained('bert-base-uncased')\n",
    "bert_model = BertForSequenceClassification.from_pretrained('bert-base-uncased')\n",
    "bert_model.classifier = nn.Linear(768, 3, bias=True)\n",
    "\n",
    "from transformers import RobertaTokenizer, RobertaForSequenceClassification\n",
    "\n",
    "roberta_tokenizer = RobertaTokenizer.from_pretrained('roberta-base')\n",
    "roberta_model = RobertaForSequenceClassification.from_pretrained('roberta-base')\n",
    "roberta_model.classifier.out_proj = nn.Linear(768, 3, bias=True)\n",
    "\n",
    "# from transformers import GPT2Tokenizer, GPT2ForSequenceClassification\n",
    "\n",
    "# tokenizer = GPT2Tokenizer.from_pretrained('microsoft/DialoGPT-medium')\n",
    "# tokenizer.pad_token = tokenizer.eos_token\n",
    "# model = GPT2ForSequenceClassification.from_pretrained('microsoft/DialoGPT-medium')\n",
    "# # model\n",
    "# model.score = nn.Linear(768, 3, bias=True)\n",
    "\n",
    "# TweetBert\n",
    "from transformers import AutoModel, AutoTokenizer, RobertaForSequenceClassification\n",
    "\n",
    "bertweet_tokenizer = AutoTokenizer.from_pretrained('vinai/bertweet-base',\n",
    "                                          use_fast=False, normalization=True)\n",
    "bertweet_model = RobertaForSequenceClassification.from_pretrained('vinai/bertweet-base')\n",
    "bertweet_model.classifier.out_proj = nn.Linear(768, 3, bias=True)\n",
    "\n",
    "# model"
   ]
  },
  {
   "cell_type": "code",
   "execution_count": 2,
   "metadata": {},
   "outputs": [],
   "source": [
    "import torch\n",
    "\n",
    "bert_model = bert_model.to('cuda:2')\n",
    "roberta_model = roberta_model.to('cuda:2')\n",
    "bertweet_model = bertweet_model.to('cuda:3')"
   ]
  },
  {
   "cell_type": "code",
   "execution_count": 3,
   "metadata": {},
   "outputs": [],
   "source": [
    "def get_texts(f_name='./twitter_sentiment', mode='train'):\n",
    "    text_list = []\n",
    "    label_list = []\n",
    "    \n",
    "    f_path = os.path.join(f_name, '{}.csv'.format(mode))\n",
    "    with open(f_path) as f:\n",
    "        reader = csv.DictReader(f)\n",
    "        for line in reader:\n",
    "            text_list.append(line['text'])\n",
    "            if mode != 'test':\n",
    "                label_list.append(int(line['sentiment_label']))\n",
    "\n",
    "    return text_list, label_list"
   ]
  },
  {
   "cell_type": "code",
   "execution_count": 4,
   "metadata": {},
   "outputs": [],
   "source": [
    "import os\n",
    "import csv\n",
    "import torch\n",
    "from torch.utils.data import Dataset, DataLoader\n",
    "class TwitterDataset(Dataset):\n",
    "    def __init__(self, f_name='./twitter_sentiment', mode='train', tokenizer=None):\n",
    "        self.mode = mode\n",
    "        \n",
    "        text_list, label_list = get_texts(f_name, mode)\n",
    "        print('mode', mode, 'has', len(text_list), 'datas')\n",
    "        text_list = tokenizer(text_list,\n",
    "                             truncation=True, padding=True,\n",
    "                             return_tensors='pt')\n",
    "\n",
    "        self.text_list = text_list['input_ids']\n",
    "        self.mask_list = text_list['attention_mask']\n",
    "        self.label_list = label_list\n",
    "    \n",
    "    def __getitem__(self, idx):\n",
    "        text = self.text_list[idx]\n",
    "        mask = self.mask_list[idx]\n",
    "        if self.mode == 'test':\n",
    "            return text, mask\n",
    "        label = torch.tensor(self.label_list[idx])\n",
    "        return text, mask, label\n",
    "\n",
    "    def __len__(self):\n",
    "        return len(self.text_list)"
   ]
  },
  {
   "cell_type": "code",
   "execution_count": 5,
   "metadata": {},
   "outputs": [],
   "source": [
    "criterion = nn.CrossEntropyLoss()"
   ]
  },
  {
   "cell_type": "code",
   "execution_count": 6,
   "metadata": {},
   "outputs": [],
   "source": [
    "from tqdm import tqdm\n",
    "\n",
    "def accuracy(raw_preds, y):\n",
    "    preds = raw_preds.argmax(dim=1)\n",
    "    acc = (preds == y).sum()\n",
    "    return acc\n",
    "\n",
    "def test(model, data, criterion, device):\n",
    "    model.eval()\n",
    "\n",
    "    epoch_loss = 0\n",
    "    epoch_acc = 0\n",
    "    total = 0\n",
    "    for text, mask, label in tqdm(data, total=len(data)):\n",
    "        text = text.to(device)\n",
    "        mask = mask.to(device)\n",
    "        label = label.to(device)\n",
    "        \n",
    "        output = model(text, mask)\n",
    "        pred = output.logits\n",
    "        loss = criterion(pred, label)\n",
    "        acc = accuracy(pred, label)\n",
    "        \n",
    "        epoch_loss += loss.item()\n",
    "        epoch_acc += acc.item()\n",
    "        total += len(text)\n",
    "    return epoch_loss / total, epoch_acc / total\n",
    "\n",
    "def predict(model, data, device):\n",
    "    model.eval()\n",
    "    \n",
    "    preds = []\n",
    "    for text, mask in tqdm(data, total=len(data)):\n",
    "        text = text.to(device)\n",
    "        mask = mask.to(device)\n",
    "        \n",
    "        output = model(text, mask)\n",
    "        pred = output.logits\n",
    "        preds.append(torch.argmax(pred, dim=1))\n",
    "    preds = torch.cat(preds).cpu().tolist()\n",
    "    return preds"
   ]
  },
  {
   "cell_type": "code",
   "execution_count": 7,
   "metadata": {},
   "outputs": [],
   "source": [
    "import matplotlib.pyplot as plt\n",
    "\n",
    "class Meter:\n",
    "    def __init__(self):\n",
    "        self.train_loss_list = []\n",
    "        self.train_acc_list = []\n",
    "        self.val_loss_list = []\n",
    "        self.val_acc_list = []\n",
    "    \n",
    "    def update(self, train_loss, train_acc, val_loss, val_acc):\n",
    "        self.train_loss_list.append(train_loss)\n",
    "        self.train_acc_list.append(train_acc)\n",
    "        self.val_loss_list.append(val_loss)\n",
    "        self.val_acc_list.append(val_acc)\n",
    "    \n",
    "    def plot(self):\n",
    "        x = range(len(self.train_loss_list))\n",
    "        plt.plot(x, self.train_loss_list)\n",
    "        plt.plot(x, self.val_loss_list, color='r')\n",
    "        plt.legend(['train_loss', 'val_loss'])\n",
    "        plt.show()\n",
    "        plt.plot(x, self.train_acc_list)\n",
    "        plt.plot(x, self.val_acc_list, color='r')\n",
    "        plt.legend(['train_acc', 'val_acc'])\n",
    "        plt.show()"
   ]
  },
  {
   "cell_type": "code",
   "execution_count": 8,
   "metadata": {},
   "outputs": [],
   "source": [
    "m = Meter()\n",
    "all_preds = []"
   ]
  },
  {
   "cell_type": "code",
   "execution_count": 9,
   "metadata": {},
   "outputs": [
    {
     "name": "stdout",
     "output_type": "stream",
     "text": [
      "mode train has 10248 datas\n",
      "mode val has 1464 datas\n",
      "mode test has 2928 datas\n"
     ]
    }
   ],
   "source": [
    "dataset_train = TwitterDataset(mode='train', tokenizer=bert_tokenizer)\n",
    "dataset_val = TwitterDataset(mode='val', tokenizer=bert_tokenizer)\n",
    "dataset_test = TwitterDataset(mode='test', tokenizer=bert_tokenizer)\n",
    "\n",
    "batch_size = 64\n",
    "train_data = DataLoader(dataset_train, batch_size=batch_size,\n",
    "                       shuffle=True)\n",
    "val_data = DataLoader(dataset_val, batch_size=batch_size // 2,\n",
    "                       shuffle=False)\n",
    "test_data = DataLoader(dataset_test, batch_size=batch_size // 2,\n",
    "                       shuffle=False)"
   ]
  },
  {
   "cell_type": "code",
   "execution_count": 10,
   "metadata": {},
   "outputs": [
    {
     "name": "stderr",
     "output_type": "stream",
     "text": [
      "100%|██████████| 161/161 [00:13<00:00, 12.14it/s]\n",
      "100%|██████████| 46/46 [00:01<00:00, 26.02it/s]"
     ]
    },
    {
     "name": "stdout",
     "output_type": "stream",
     "text": [
      "file: bert_best.pt\n",
      "train loss: 0.0030178070318456927 train_acc 0.9392076502732241\n",
      "val loss: 0.013959414106819147 val_acc 0.8490437158469946\n"
     ]
    },
    {
     "name": "stderr",
     "output_type": "stream",
     "text": [
      "\n"
     ]
    }
   ],
   "source": [
    "f_ckpts = ['bert_best.pt']\n",
    "device = torch.device('cuda:2')\n",
    "\n",
    "for f in f_ckpts:\n",
    "    ckpt = torch.load(f)\n",
    "    bert_model.load_state_dict(ckpt)\n",
    "    \n",
    "    train_loss, train_acc = test(bert_model, train_data, criterion, device=device)\n",
    "    val_loss, val_acc = test(bert_model, val_data, criterion, device=device)\n",
    "    m.update(train_loss, train_acc, val_loss, val_acc)\n",
    "    print('file:', f)\n",
    "    print('train loss:', train_loss, 'train_acc', train_acc)\n",
    "    print('val loss:', val_loss, 'val_acc', val_acc)"
   ]
  },
  {
   "cell_type": "code",
   "execution_count": 11,
   "metadata": {},
   "outputs": [
    {
     "name": "stderr",
     "output_type": "stream",
     "text": [
      "100%|██████████| 92/92 [00:04<00:00, 22.91it/s]\n"
     ]
    }
   ],
   "source": [
    "f_ckpts = ['bert_best.pt']\n",
    "device = torch.device('cuda:2')\n",
    "\n",
    "for f in f_ckpts:\n",
    "    ckpt = torch.load(f)\n",
    "    bert_model.load_state_dict(ckpt)\n",
    "\n",
    "    preds = predict(bert_model, test_data, device=device)\n",
    "    all_preds.append(preds)"
   ]
  },
  {
   "cell_type": "code",
   "execution_count": 12,
   "metadata": {},
   "outputs": [
    {
     "name": "stdout",
     "output_type": "stream",
     "text": [
      "mode train has 10248 datas\n",
      "mode val has 1464 datas\n",
      "mode test has 2928 datas\n"
     ]
    }
   ],
   "source": [
    "dataset_train = TwitterDataset(mode='train', tokenizer=roberta_tokenizer)\n",
    "dataset_val = TwitterDataset(mode='val', tokenizer=roberta_tokenizer)\n",
    "dataset_test = TwitterDataset(mode='test', tokenizer=roberta_tokenizer)\n",
    "\n",
    "batch_size = 32\n",
    "train_data = DataLoader(dataset_train, batch_size=batch_size,\n",
    "                       shuffle=True)\n",
    "val_data = DataLoader(dataset_val, batch_size=batch_size // 2,\n",
    "                       shuffle=False)\n",
    "test_data = DataLoader(dataset_test, batch_size=batch_size // 2,\n",
    "                       shuffle=False)"
   ]
  },
  {
   "cell_type": "code",
   "execution_count": 13,
   "metadata": {},
   "outputs": [
    {
     "name": "stderr",
     "output_type": "stream",
     "text": [
      "100%|██████████| 321/321 [00:27<00:00, 11.59it/s]\n",
      "100%|██████████| 92/92 [00:02<00:00, 38.84it/s]\n"
     ]
    },
    {
     "name": "stdout",
     "output_type": "stream",
     "text": [
      "file: roberta_m1.pt\n",
      "train loss: 0.00526285382801235 train_acc 0.944184231069477\n",
      "val loss: 0.02806949893984679 val_acc 0.8558743169398907\n"
     ]
    },
    {
     "name": "stderr",
     "output_type": "stream",
     "text": [
      "100%|██████████| 321/321 [00:28<00:00, 11.40it/s]\n",
      "100%|██████████| 92/92 [00:02<00:00, 42.69it/s]"
     ]
    },
    {
     "name": "stdout",
     "output_type": "stream",
     "text": [
      "file: roberta_m3.pt\n",
      "train loss: 0.0035503628410349522 train_acc 0.9666276346604216\n",
      "val loss: 0.027962825586764866 val_acc 0.8633879781420765\n"
     ]
    },
    {
     "name": "stderr",
     "output_type": "stream",
     "text": [
      "\n"
     ]
    }
   ],
   "source": [
    "f_ckpts = ['roberta_m1.pt', 'roberta_m3.pt']\n",
    "device = torch.device('cuda:2')\n",
    "\n",
    "for f in f_ckpts:\n",
    "    ckpt = torch.load(f)\n",
    "    roberta_model.load_state_dict(ckpt)\n",
    "    \n",
    "    train_loss, train_acc = test(roberta_model, train_data, criterion, device=device)\n",
    "    val_loss, val_acc = test(roberta_model, val_data, criterion, device=device)\n",
    "    m.update(train_loss, train_acc, val_loss, val_acc)\n",
    "    print('file:', f)\n",
    "    print('train loss:', train_loss, 'train_acc', train_acc)\n",
    "    print('val loss:', val_loss, 'val_acc', val_acc)"
   ]
  },
  {
   "cell_type": "code",
   "execution_count": 14,
   "metadata": {},
   "outputs": [
    {
     "name": "stderr",
     "output_type": "stream",
     "text": [
      "100%|██████████| 183/183 [00:04<00:00, 39.54it/s]\n",
      "100%|██████████| 183/183 [00:04<00:00, 42.24it/s]\n"
     ]
    }
   ],
   "source": [
    "f_ckpts = ['roberta_m1.pt', 'roberta_m3.pt']\n",
    "device = torch.device('cuda:2')\n",
    "\n",
    "for f in f_ckpts:\n",
    "    ckpt = torch.load(f)\n",
    "    roberta_model.load_state_dict(ckpt)\n",
    "    \n",
    "    preds = predict(roberta_model, test_data, device=device)\n",
    "    all_preds.append(preds)"
   ]
  },
  {
   "cell_type": "code",
   "execution_count": 15,
   "metadata": {},
   "outputs": [
    {
     "name": "stdout",
     "output_type": "stream",
     "text": [
      "mode train has 10248 datas\n",
      "mode val has 1464 datas\n",
      "mode test has 2928 datas\n"
     ]
    }
   ],
   "source": [
    "dataset_train = TwitterDataset(mode='train', tokenizer=bertweet_tokenizer)\n",
    "dataset_val = TwitterDataset(mode='val', tokenizer=bertweet_tokenizer)\n",
    "dataset_test = TwitterDataset(mode='test', tokenizer=bertweet_tokenizer)\n",
    "\n",
    "batch_size = 32\n",
    "train_data = DataLoader(dataset_train, batch_size=batch_size,\n",
    "                       shuffle=True)\n",
    "val_data = DataLoader(dataset_val, batch_size=batch_size // 2,\n",
    "                       shuffle=False)\n",
    "test_data = DataLoader(dataset_test, batch_size=batch_size // 2,\n",
    "                       shuffle=False)"
   ]
  },
  {
   "cell_type": "code",
   "execution_count": 16,
   "metadata": {},
   "outputs": [
    {
     "name": "stderr",
     "output_type": "stream",
     "text": [
      "100%|██████████| 321/321 [00:11<00:00, 27.60it/s]\n",
      "100%|██████████| 92/92 [00:02<00:00, 40.98it/s]\n"
     ]
    },
    {
     "name": "stdout",
     "output_type": "stream",
     "text": [
      "file: bertweet_m1.pt\n",
      "train loss: 0.0021247976835527013 train_acc 0.9838992974238876\n",
      "val loss: 0.03320244217260939 val_acc 0.8510928961748634\n"
     ]
    },
    {
     "name": "stderr",
     "output_type": "stream",
     "text": [
      "100%|██████████| 321/321 [00:11<00:00, 27.41it/s]\n",
      "100%|██████████| 92/92 [00:02<00:00, 40.21it/s]\n"
     ]
    },
    {
     "name": "stdout",
     "output_type": "stream",
     "text": [
      "file: bertweet_m2.pt\n",
      "train loss: 0.0023855631503078047 train_acc 0.9810694769711163\n",
      "val loss: 0.030525195192866273 val_acc 0.8633879781420765\n"
     ]
    },
    {
     "name": "stderr",
     "output_type": "stream",
     "text": [
      "100%|██████████| 321/321 [00:11<00:00, 27.38it/s]\n",
      "100%|██████████| 92/92 [00:02<00:00, 41.02it/s]\n"
     ]
    },
    {
     "name": "stdout",
     "output_type": "stream",
     "text": [
      "file: bertweet_m3.pt\n",
      "train loss: 0.002508081782029056 train_acc 0.980191256830601\n",
      "val loss: 0.03046279139829484 val_acc 0.8681693989071039\n"
     ]
    },
    {
     "name": "stderr",
     "output_type": "stream",
     "text": [
      "100%|██████████| 321/321 [00:11<00:00, 27.00it/s]\n",
      "100%|██████████| 92/92 [00:02<00:00, 36.08it/s]"
     ]
    },
    {
     "name": "stdout",
     "output_type": "stream",
     "text": [
      "file: bertweet_m4.pt\n",
      "train loss: 0.002522332678133859 train_acc 0.9784348165495707\n",
      "val loss: 0.028642687131014595 val_acc 0.8715846994535519\n"
     ]
    },
    {
     "name": "stderr",
     "output_type": "stream",
     "text": [
      "\n"
     ]
    }
   ],
   "source": [
    "f_ckpts = ['bertweet_m1.pt', 'bertweet_m2.pt', 'bertweet_m3.pt', 'bertweet_m4.pt']\n",
    "device = torch.device('cuda:3')\n",
    "\n",
    "for f in f_ckpts:\n",
    "    ckpt = torch.load(f)\n",
    "    bertweet_model.load_state_dict(ckpt)\n",
    "    \n",
    "    train_loss, train_acc = test(bertweet_model, train_data, criterion, device=device)\n",
    "    val_loss, val_acc = test(bertweet_model, val_data, criterion, device=device)\n",
    "    m.update(train_loss, train_acc, val_loss, val_acc)\n",
    "    print('file:', f)\n",
    "    print('train loss:', train_loss, 'train_acc', train_acc)\n",
    "    print('val loss:', val_loss, 'val_acc', val_acc)"
   ]
  },
  {
   "cell_type": "code",
   "execution_count": 17,
   "metadata": {},
   "outputs": [
    {
     "name": "stderr",
     "output_type": "stream",
     "text": [
      "100%|██████████| 183/183 [00:04<00:00, 39.79it/s]\n",
      "100%|██████████| 183/183 [00:04<00:00, 39.18it/s]\n",
      "100%|██████████| 183/183 [00:04<00:00, 38.96it/s]\n",
      "100%|██████████| 183/183 [00:04<00:00, 40.27it/s]\n"
     ]
    }
   ],
   "source": [
    "f_ckpts = ['bertweet_m1.pt', 'bertweet_m2.pt', 'bertweet_m3.pt', 'bertweet_m4.pt']\n",
    "device = torch.device('cuda:3')\n",
    "\n",
    "for f in f_ckpts:\n",
    "    ckpt = torch.load(f)\n",
    "    bertweet_model.load_state_dict(ckpt)\n",
    "    \n",
    "    preds = predict(bertweet_model, test_data, device=device)\n",
    "    all_preds.append(preds)"
   ]
  },
  {
   "cell_type": "code",
   "execution_count": 18,
   "metadata": {},
   "outputs": [
    {
     "data": {
      "image/png": "[encoded data removed]",
      "text/plain": [
       "<Figure size 432x288 with 1 Axes>"
      ]
     },
     "metadata": {
      "needs_background": "light"
     },
     "output_type": "display_data"
    },
    {
     "data": {
      "image/png": "[encoded data removed]",
      "text/plain": [
       "<Figure size 432x288 with 1 Axes>"
      ]
     },
     "metadata": {
      "needs_background": "light"
     },
     "output_type": "display_data"
    }
   ],
   "source": [
    "m.plot()"
   ]
  },
  {
   "cell_type": "code",
   "execution_count": 19,
   "metadata": {},
   "outputs": [
    {
     "data": {
      "text/plain": [
       "torch.Size([7, 2928])"
      ]
     },
     "execution_count": 19,
     "metadata": {},
     "output_type": "execute_result"
    }
   ],
   "source": [
    "pp = torch.tensor(all_preds)\n",
    "pp.shape"
   ]
  },
  {
   "cell_type": "code",
   "execution_count": 20,
   "metadata": {},
   "outputs": [],
   "source": [
    "final_preds = []\n",
    "for ii in range(pp.shape[1]):\n",
    "    p = pp[:, ii].tolist()\n",
    "#     print(p, end=' ')\n",
    "    \n",
    "    d = dict()\n",
    "    for temp in p:\n",
    "        if temp in d:\n",
    "            d[temp] += 1\n",
    "        else:\n",
    "            d[temp] = 0\n",
    "    \n",
    "    max_k = list(d.keys())[0]\n",
    "    for k, v in d.items():\n",
    "        if v > d[max_k]:\n",
    "            max_k = k\n",
    "#     print(max_k)\n",
    "    \n",
    "    final_preds.append(max_k)"
   ]
  },
  {
   "cell_type": "code",
   "execution_count": 21,
   "metadata": {},
   "outputs": [],
   "source": [
    "with open('pred.csv', 'w') as f:\n",
    "    f.write('index,sentiment_label\\n')\n",
    "    for i, pred in enumerate(final_preds):\n",
    "        f.write('{},{}\\n'.format(i, pred))"
   ]
  }
 ],
 "metadata": {
  "kernelspec": {
   "display_name": "Python 3",
   "language": "python",
   "name": "python3"
  },
  "language_info": {
   "codemirror_mode": {
    "name": "ipython",
    "version": 3
   },
   "file_extension": ".py",
   "mimetype": "text/x-python",
   "name": "python",
   "nbconvert_exporter": "python",
   "pygments_lexer": "ipython3",
   "version": "3.6.8"
  }
 },
 "nbformat": 4,
 "nbformat_minor": 4
}
