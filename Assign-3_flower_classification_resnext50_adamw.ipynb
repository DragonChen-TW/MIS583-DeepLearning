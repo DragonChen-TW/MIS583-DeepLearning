{
 "cells": [
  {
   "cell_type": "markdown",
   "metadata": {
    "id": "hLcWRu-jp7gM"
   },
   "source": [
    "# MIS 583 Assignment 3: Flower Classfication"
   ]
  },
  {
   "cell_type": "markdown",
   "metadata": {
    "id": "oSwr9MgZogRZ"
   },
   "source": [
    "Before we start, please put your name and ID in following format: <br>\n",
    "NAME, ?000000000   e.g. 陳琨翔, M094020003\n",
    "\n",
    "**Your Answer:**   \n",
    "Hi I'm 陳耀融, M094020055"
   ]
  },
  {
   "cell_type": "markdown",
   "metadata": {
    "id": "B_MoQiztpxcK"
   },
   "source": [
    "## Flower Classification\n",
    "\n",
    "Image classification is a core and fundamental task in computer vision.\n",
    "\n",
    "In the assignment, you will implement a multi-class image classifier to recognize flowers.\n",
    "\n",
    "You will design and train a deep convolutional network from scratch to predict the class label of a flower image. This will help you gain experience with network design and get more familiar with PyTorch.\n",
    "\n",
    "**Please note that you’re not allowed to use a pre-trained model.**"
   ]
  },
  {
   "cell_type": "markdown",
   "metadata": {
    "id": "b1NQv3Ey3cVS"
   },
   "source": [
    "## Kaggle Competition\n",
    "Kaggle is an online community of data scientists and machine learning practitioners. Kaggle allows users to find and publish data sets, explore and build models in a web-based data-science environment, work with other data scientists and machine learning engineers, and enter competitions to solve data science challenges.\n",
    "\n",
    "This assignment use kaggle to calculate your grade.  \n",
    "Please use this [**LINK**](https://www.kaggle.com/t/a16786b7da97419f9ba90b495dab08aa) to join the competition."
   ]
  },
  {
   "cell_type": "markdown",
   "metadata": {
    "id": "giUId1Naqacs"
   },
   "source": [
    "##  Versions of used packages\n",
    "\n",
    "We will check PyTorch version to make sure everything work properly.\n",
    "\n",
    "We use `python 3.6.9`, `torch==1.6.0`"
   ]
  },
  {
   "cell_type": "code",
   "execution_count": 2,
   "metadata": {
    "colab": {
     "base_uri": "https://localhost:8080/",
     "height": 110
    },
    "id": "Vuw-gNvjqcYe",
    "outputId": "346b960c-fc65-4294-c7bb-5c87e96070b4"
   },
   "outputs": [
    {
     "name": "stdout",
     "output_type": "stream",
     "text": [
      "Python 3.6.8\n",
      "torch==1.6.0\n",
      "torchsummary==1.5.1\n",
      "torchvision==0.7.0\n"
     ]
    }
   ],
   "source": [
    "# in our lab's server\n",
    "# python=3.6.8, torch=1.6.0\n",
    "!python3 --version\n",
    "!pip3 freeze | grep torch"
   ]
  },
  {
   "cell_type": "markdown",
   "metadata": {
    "id": "_FydjP4MTWuL"
   },
   "source": [
    "## Error handling\n",
    "\n",
    "**RuntimeError: CUDA out of memory...**\n",
    "> 發生原因可能為讀取的 batch 過大或是記憶體未釋放乾淨。若縮小 batch size 後仍出現錯誤請按照以下步驟重新載入 colab。\n",
    "\n",
    "1. Click 「Runtime」\n",
    "2. Click 「Factor reset runtime」\n",
    "3. Click 「Reconnect」\n",
    "4. Reload all chunk\n",
    "\n"
   ]
  },
  {
   "cell_type": "markdown",
   "metadata": {
    "id": "OhdbdJOsrbxL"
   },
   "source": [
    "# Prepare Data"
   ]
  },
  {
   "cell_type": "markdown",
   "metadata": {
    "id": "nPoSgD83teTQ"
   },
   "source": [
    "We use [Flowers Recognition](https://www.kaggle.com/alxmamaev/flowers-recognition) dataset.\n",
    "This is collected by Alexander Mamaev.\n",
    "\n",
    "**Abstrct**  \n",
    "\n",
    "This dataset contains 4323 images of flowers.\n",
    "The data collection is based on the data flicr, google images, yandex images.\n",
    "You can use this datastet to recognize plants from the photo.\n",
    "\n",
    "The pictures are divided into five classes: \n",
    "+ daisy\n",
    "+ tulip\n",
    "+ rose\n",
    "+ sunflower\n",
    "+ dandelion\n",
    "\n",
    "For each class there are about 800 photos. Photos are not high resolution, about 320x240 pixels. Photos are not reduced to a single size, they have different proportions!"
   ]
  },
  {
   "cell_type": "markdown",
   "metadata": {
    "id": "IiMThsYeDa2O"
   },
   "source": [
    "## Get Data\n",
    "\n",
    "請先到共用雲端硬碟將檔案`flower_data.zip`，建立捷徑到自己的雲端硬碟中。\n",
    "\n",
    "> 操作步驟\n",
    "1. 點開雲端[連結](https://drive.google.com/file/d/1rTfeCpKXoQXI978QiTWC-AI1vwGvd5SU/view?usp=sharing)\n",
    "2. 點選右上角「新增雲端硬碟捷徑」\n",
    "3. 點選「我的雲端硬碟」\n",
    "4. 點選「新增捷徑」\n",
    "\n",
    "完成以上流程會在你的雲端硬碟中建立一個檔案的捷徑，接著我們在colab中取得權限即可使用。"
   ]
  },
  {
   "cell_type": "markdown",
   "metadata": {
    "id": "jBY0b6zxI0r9"
   },
   "source": [
    "執行此段後點選出現的連結，允許授權後，複製授權碼，貼在空格中後按下ENTER，即完成與雲端硬碟連結。"
   ]
  },
  {
   "cell_type": "code",
   "execution_count": null,
   "metadata": {
    "colab": {
     "base_uri": "https://localhost:8080/",
     "height": 36
    },
    "id": "cCXepUIVe5iJ",
    "outputId": "96ca72d5-9b36-4f35-9ec7-899f28c16272"
   },
   "outputs": [],
   "source": [
    "from google.colab import drive\n",
    "drive.mount('/content/drive')"
   ]
  },
  {
   "cell_type": "markdown",
   "metadata": {
    "id": "cqO8DiB6VRQZ"
   },
   "source": [
    "## Unzip Data\n",
    "\n",
    "解壓縮 `flower_data.zip` 後可以發現裡面有兩個資料夾和三個csv檔。\n",
    "\n",
    "+ `train` : 存有五個資料夾分別是五個種類的花，資料夾內為花的照片。\n",
    "+ `test` : 資料夾中為未分類之測試集照片。\n",
    "+ `train.csv` : 讀取 train data 的順序、路徑與圖片所屬花別。\n",
    "+ `val.csv` : 讀取 validate data 的順序、路徑與圖片所屬花別。\n",
    "+ `test.csv` : 讀取 test data 的順序、路徑。\n",
    "\n",
    "其中`train`的圖片3112張，`val`的圖片778章，`test`的圖片433張。\n",
    "\n",
    "注意: 若有另外設定存放在雲端硬碟中的路徑，請記得本處路徑也須做更動。"
   ]
  },
  {
   "cell_type": "code",
   "execution_count": null,
   "metadata": {
    "id": "aGCZQxZSfONu"
   },
   "outputs": [],
   "source": [
    "!unzip -qq ./drive/My\\ Drive/flower_data.zip"
   ]
  },
  {
   "cell_type": "code",
   "execution_count": null,
   "metadata": {},
   "outputs": [],
   "source": [
    "# in our lab's server\n",
    "!unzip -qq flower_data.zip"
   ]
  },
  {
   "cell_type": "markdown",
   "metadata": {
    "id": "SYueKGdIHpho"
   },
   "source": [
    "## Loading the dataset\n"
   ]
  },
  {
   "cell_type": "markdown",
   "metadata": {
    "id": "xpG2DxEqHFD-"
   },
   "source": [
    "### Custom dataset\n",
    "\n",
    "繼承自定義資料集的框架 `torch.utils.data.Dataset`，主要實現 `__getitem__()` 和 `__len__()` 這兩個方法。\n",
    "\n",
    "常使用來做到設定資料位址、設定讀取方式、子資料集的標籤和轉換條件...等。\n",
    "\n",
    "See [torch.utils.data.Dataset](https://pytorch.org/docs/stable/data.html#torch.utils.data.Dataset) for more details"
   ]
  },
  {
   "cell_type": "code",
   "execution_count": 3,
   "metadata": {
    "id": "dwUE1E83_Iw8"
   },
   "outputs": [],
   "source": [
    "import csv\n",
    "import os\n",
    "import numpy as np\n",
    "from PIL import Image\n",
    "import torch\n",
    "\n",
    "class FlowerData(torch.utils.data.Dataset):\n",
    "    def __init__(self, csv_file, mode='train', transform=None):\n",
    "        \n",
    "        self.mode = mode # 'train', 'val' or 'test'\n",
    "        self.data_list = []\n",
    "        self.labels = []\n",
    "        self.transform = transform\n",
    "        \n",
    "        with open(csv_file, newline='') as csvfile:\n",
    "            reader = csv.DictReader(csvfile)\n",
    "            for row in reader:\n",
    "                self.data_list.append(row['file_path'])\n",
    "                if mode != 'test':\n",
    "                    self.labels.append(row['label'])\n",
    "\n",
    "    def __getitem__(self, index):\n",
    "\n",
    "        data = Image.open(self.data_list[index])\n",
    "        if self.transform is not None:\n",
    "            data = self.transform(data)\n",
    "        if self.mode == 'test':\n",
    "            return data\n",
    "        label = torch.tensor(int(self.labels[index]))\n",
    "\n",
    "        return data, label\n",
    "\n",
    "    def __len__(self):\n",
    "        return len(self.data_list)"
   ]
  },
  {
   "cell_type": "markdown",
   "metadata": {
    "id": "5tQGLuVWnA-b"
   },
   "source": [
    "### Data augmentation \n",
    "\n",
    "Data augmentation are techniques used to increase the amount of data by adding slightly modified copies of already existing data or newly created synthetic data from existing data.\n",
    "\n",
    "Pytorch use `torchvision.transforms` to do data augmentation.\n",
    "[You can see all function here.](https://pytorch.org/docs/stable/torchvision/transforms.html)\n",
    "\n",
    "**NOTICE**: There are some operations may not be necessary for predict, so we should write one for train and one for others.\n",
    "\n",
    "(**Slide.07 page.49**)"
   ]
  },
  {
   "cell_type": "code",
   "execution_count": 4,
   "metadata": {
    "id": "UIv1VyHXVNTo"
   },
   "outputs": [],
   "source": [
    "from torchvision import transforms\n",
    "# For TRAIN\n",
    "########################################################################\n",
    "#  TODO: use transforms.xxx method to do some data augmentation        #\n",
    "#  This one is for training, find the composition to get better result #\n",
    "########################################################################\n",
    "transforms_train = transforms.Compose([\n",
    "    transforms.Resize(240),\n",
    "    transforms.RandomResizedCrop(224),\n",
    "    transforms.RandomHorizontalFlip(),\n",
    "    transforms.RandomVerticalFlip(),\n",
    "    transforms.RandomRotation(30),\n",
    "    transforms.ToTensor(),\n",
    "    transforms.Normalize(mean=[0.485, 0.456, 0.406], std=[0.229, 0.224, 0.225]),\n",
    "])\n",
    "########################################################################\n",
    "#                           End of your code                           #\n",
    "########################################################################\n",
    "\n",
    "# For VAL, TEST\n",
    "########################################################################\n",
    "#  TODO: use transforms.xxx method to do some data augmentation        #\n",
    "#  This one is for validate and test,                                  #\n",
    "#  NOTICE some operation we usually not use in this part               #\n",
    "########################################################################\n",
    "transforms_test = transforms.Compose([\n",
    "    transforms.Resize(240),\n",
    "    transforms.CenterCrop(224),\n",
    "    transforms.ToTensor(),\n",
    "    transforms.Normalize(mean=[0.485, 0.456, 0.406], std=[0.229, 0.224, 0.225]),\n",
    "])\n",
    "########################################################################\n",
    "#                           End of your code                           #\n",
    "########################################################################"
   ]
  },
  {
   "cell_type": "markdown",
   "metadata": {
    "id": "7rYptn_YJlFX"
   },
   "source": [
    "### Instantiate dataset\n",
    "\n",
    "Let's instantiate three `FlowerData` class.\n",
    "+ dataset_train: for training.\n",
    "+ dataset_val: for validation.\n",
    "+ dataset_test: for tesing."
   ]
  },
  {
   "cell_type": "code",
   "execution_count": 5,
   "metadata": {
    "id": "LKjsKyHhZZc6"
   },
   "outputs": [],
   "source": [
    "dataset_train = FlowerData('./data/train.csv', mode='train', transform=transforms_train)\n",
    "dataset_val = FlowerData('./data/val.csv', mode='val', transform=transforms_test)\n",
    "dataset_test = FlowerData('./data/test.csv', mode='test', transform=transforms_test)"
   ]
  },
  {
   "cell_type": "code",
   "execution_count": 26,
   "metadata": {
    "colab": {
     "base_uri": "https://localhost:8080/",
     "height": 54
    },
    "id": "ZAeQQEEISCJJ",
    "outputId": "c9ec9a06-17ff-48a4-a9df-776987ef5720"
   },
   "outputs": [
    {
     "name": "stdout",
     "output_type": "stream",
     "text": [
      "The first image's shape in dataset_train : torch.Size([3, 224, 224])\n",
      "There are 3112 images in dataset_train.\n",
      "There are 433 images in dataset_test.\n"
     ]
    }
   ],
   "source": [
    "print(\"The first image's shape in dataset_train :\", dataset_train.__getitem__(0)[0].size())\n",
    "print(\"There are\", len(dataset_train), \"images in dataset_train.\")\n",
    "print(\"There are\", len(dataset_test), \"images in dataset_test.\")"
   ]
  },
  {
   "cell_type": "markdown",
   "metadata": {
    "id": "vORA6qkfIj1U"
   },
   "source": [
    "### `DataLoader`\n",
    "\n",
    "`torch.utils.data.DataLoader` define how to sample from `dataset` and some other function like:\n",
    "+ `shuffle` : set to `True` to have the data reshuffled at every epoch\n",
    "+ `batch_size` : how many samples per batch to load\n",
    "\n",
    "See [torch.utils.data.DataLoader](https://pytorch.org/docs/stable/data.html#torch.utils.data.DataLoader) for more details"
   ]
  },
  {
   "cell_type": "code",
   "execution_count": 7,
   "metadata": {
    "id": "RmgA5nYT3XQZ"
   },
   "outputs": [],
   "source": [
    "from torch.utils.data import DataLoader\n",
    "\n",
    "train_loader = DataLoader(dataset_train, batch_size=32, num_workers=16, shuffle=True)\n",
    "val_loader = DataLoader(dataset_val, batch_size=32, num_workers=16, shuffle=False)\n",
    "test_loader = DataLoader(dataset_test, batch_size=32, num_workers=16, shuffle=False)"
   ]
  },
  {
   "cell_type": "markdown",
   "metadata": {
    "id": "U4atwzT3aPi3"
   },
   "source": [
    "Finally! We have made all data prepared.  \n",
    "Let's go develop our model."
   ]
  },
  {
   "cell_type": "markdown",
   "metadata": {
    "id": "87KYcWknS95z"
   },
   "source": [
    "# Implement CNN using PyTorch"
   ]
  },
  {
   "cell_type": "markdown",
   "metadata": {
    "id": "OH_4NKB9dsZ3"
   },
   "source": [
    "### Define a Convolutional Neural Network\n",
    "\n",
    "Try to design and train a deep convolutional network from scratch to predict the class label of a flower image. \n",
    "\n",
    "You can refer to last assignment about image_classifier, and try to go deep and use more method for better model."
   ]
  },
  {
   "cell_type": "code",
   "execution_count": 8,
   "metadata": {
    "id": "S_HxxEfdO2Ss"
   },
   "outputs": [],
   "source": [
    "# handmade resnext by myself\n",
    "import torch.nn as nn \n",
    "import torch.nn.functional as F\n",
    "\n",
    "# component conv1x1 and 3x3 of resnet\n",
    "def conv1x1(in_chn, out_chn, stride=1):\n",
    "    return nn.Conv2d(in_chn, out_chn, kernel_size=1,\n",
    "                     stride=stride, bias=False)\n",
    "\n",
    "def conv3x3(in_chn, out_chn, stride=1, groups=1, dilation=1):\n",
    "    return nn.Conv2d(in_chn, out_chn, kernel_size=3,\n",
    "                     stride=stride, padding=dilation,\n",
    "                     groups=groups, bias=False, dilation=dilation)\n",
    "                    # groups is keypoint for renext\n",
    "\n",
    "# I also try resnet34 with BasicBlock\n",
    "# class BasicBlock(nn.Module):\n",
    "\n",
    "# Block of resnet50, resnet101, resnet152...\n",
    "class BottleNeck(nn.Module):\n",
    "    expansion = 4\n",
    "\n",
    "    def __init__(self, in_chn, out_chn, stride=1, downsample=None, groups=1, base_width=64):\n",
    "        super().__init__()\n",
    "\n",
    "        width = int(out_chn * (base_width / 64.)) * groups\n",
    "        self.layers = nn.Sequential(\n",
    "            conv1x1(in_chn, width),\n",
    "            nn.BatchNorm2d(width),\n",
    "            nn.ReLU(inplace=True),\n",
    "            \n",
    "            conv3x3(width, width, stride=stride, groups=groups),\n",
    "            nn.BatchNorm2d(width),\n",
    "            nn.ReLU(inplace=True),\n",
    "            \n",
    "            conv1x1(width, out_chn * self.expansion),\n",
    "            nn.BatchNorm2d(out_chn * self.expansion),\n",
    "        )\n",
    "        self.downsample = downsample\n",
    "\n",
    "    def forward(self, x):\n",
    "        out = self.layers(x)\n",
    "        \n",
    "        identity = x\n",
    "        if self.downsample is not None:\n",
    "            identity = self.downsample(x)\n",
    "\n",
    "        out += identity\n",
    "        out = F.relu(out)\n",
    "\n",
    "        return out\n",
    "\n",
    "# ResNext Module\n",
    "class ResNext50(nn.Module): \n",
    "    def __init__(self): \n",
    "        super().__init__()\n",
    "        ########################################################################\n",
    "        #     TODO: use nn.xxx method to generate a CNN model part             #\n",
    "        ########################################################################\n",
    "        # define core model\n",
    "        # resnet50 32x4d setting\n",
    "        block = BottleNeck\n",
    "        layers = [3, 4, 6, 3]\n",
    "        pre = nn.Sequential(\n",
    "            nn.Conv2d(3, 64, kernel_size=7, stride=2,\n",
    "                      padding=3, bias=False),\n",
    "            nn.BatchNorm2d(64),\n",
    "            nn.ReLU(inplace=True),\n",
    "        )\n",
    "        \n",
    "        self.in_chn = 64\n",
    "        self.groups = 32 # default 1\n",
    "        self.width_per_group = 4 # deafult 64\n",
    "        self.base_width = self.width_per_group\n",
    "\n",
    "        self.pre = pre\n",
    "        self.max_pool = nn.MaxPool2d(kernel_size=3, stride=2, padding=1)\n",
    "\n",
    "        # stack blocks and layers\n",
    "        self.layer1 = self._make_layer(block, 64, layers[0])\n",
    "        self.layer2 = self._make_layer(block, 128, layers[1], stride=2)\n",
    "        self.layer3 = self._make_layer(block, 256, layers[2], stride=2)\n",
    "        self.layer4 = self._make_layer(block, 512, layers[3], stride=2)\n",
    "\n",
    "        self.avg_pool = nn.AdaptiveAvgPool2d((1, 1))\n",
    "        self.fc = nn.Sequential(\n",
    "            nn.Linear(512 * block.expansion, 256),\n",
    "            nn.ReLU(True),\n",
    "            nn.Dropout(),\n",
    "            nn.Linear(256, 5),\n",
    "        )\n",
    "\n",
    "    # build several blocks together\n",
    "    def _make_layer(self, block, out_chn, block_num, stride=1):\n",
    "        downsample = None\n",
    "\n",
    "        if stride != 1 or self.in_chn != out_chn * block.expansion:\n",
    "            downsample = nn.Sequential(\n",
    "                conv1x1(self.in_chn, out_chn * block.expansion, stride),\n",
    "                nn.BatchNorm2d(out_chn * block.expansion),\n",
    "            )\n",
    "\n",
    "        layers = []\n",
    "        layers.append(block(self.in_chn, out_chn, stride,\n",
    "                            downsample, groups=self.groups,\n",
    "                            base_width=self.base_width))\n",
    "        self.in_chn = out_chn * block.expansion\n",
    "        for _ in range(1, block_num):\n",
    "            layers.append(block(self.in_chn, out_chn,\n",
    "                                groups=self.groups,\n",
    "                                base_width=self.base_width))\n",
    "\n",
    "        return nn.Sequential(*layers)\n",
    "        ########################################################################\n",
    "        #                           End of your code                           #\n",
    "        ########################################################################\n",
    "\n",
    "    def forward(self, x): \n",
    "        if not isinstance(x, torch.Tensor):\n",
    "            x = torch.Tensor(x)\n",
    "        ########################################################################\n",
    "        #     TODO: forward your model and get output                          #\n",
    "        ########################################################################\n",
    "        x = self.pre(x)\n",
    "        x = self.max_pool(x)\n",
    "\n",
    "        x = self.layer1(x)\n",
    "        x = self.layer2(x)\n",
    "        x = self.layer3(x)\n",
    "        x = self.layer4(x)\n",
    "\n",
    "        out = self.avg_pool(x)\n",
    "        out = torch.flatten(out, 1)\n",
    "        out = self.fc(out)\n",
    "        ########################################################################\n",
    "        #                           End of your code                           #\n",
    "        ########################################################################\n",
    "        return out"
   ]
  },
  {
   "cell_type": "code",
   "execution_count": 22,
   "metadata": {
    "colab": {
     "base_uri": "https://localhost:8080/",
     "height": 333
    },
    "id": "lP55C9Xjydws",
    "outputId": "35263053-2ed8-48d2-c1ff-ee5fc4aa87c7"
   },
   "outputs": [],
   "source": [
    "model = ResNext50()\n",
    "model = model.cuda()\n",
    "# print(model)"
   ]
  },
  {
   "cell_type": "code",
   "execution_count": 11,
   "metadata": {},
   "outputs": [
    {
     "name": "stdout",
     "output_type": "stream",
     "text": [
      "----------------------------------------------------------------\n",
      "        Layer (type)               Output Shape         Param #\n",
      "================================================================\n",
      "            Conv2d-1         [-1, 64, 112, 112]           9,408\n",
      "       BatchNorm2d-2         [-1, 64, 112, 112]             128\n",
      "              ReLU-3         [-1, 64, 112, 112]               0\n",
      "         MaxPool2d-4           [-1, 64, 56, 56]               0\n",
      "            Conv2d-5          [-1, 128, 56, 56]           8,192\n",
      "       BatchNorm2d-6          [-1, 128, 56, 56]             256\n",
      "              ReLU-7          [-1, 128, 56, 56]               0\n",
      "            Conv2d-8          [-1, 128, 56, 56]           4,608\n",
      "       BatchNorm2d-9          [-1, 128, 56, 56]             256\n",
      "             ReLU-10          [-1, 128, 56, 56]               0\n",
      "           Conv2d-11          [-1, 256, 56, 56]          32,768\n",
      "      BatchNorm2d-12          [-1, 256, 56, 56]             512\n",
      "           Conv2d-13          [-1, 256, 56, 56]          16,384\n",
      "      BatchNorm2d-14          [-1, 256, 56, 56]             512\n",
      "       BottleNeck-15          [-1, 256, 56, 56]               0\n",
      "           Conv2d-16          [-1, 128, 56, 56]          32,768\n",
      "      BatchNorm2d-17          [-1, 128, 56, 56]             256\n",
      "             ReLU-18          [-1, 128, 56, 56]               0\n",
      "           Conv2d-19          [-1, 128, 56, 56]           4,608\n",
      "      BatchNorm2d-20          [-1, 128, 56, 56]             256\n",
      "             ReLU-21          [-1, 128, 56, 56]               0\n",
      "           Conv2d-22          [-1, 256, 56, 56]          32,768\n",
      "      BatchNorm2d-23          [-1, 256, 56, 56]             512\n",
      "       BottleNeck-24          [-1, 256, 56, 56]               0\n",
      "           Conv2d-25          [-1, 128, 56, 56]          32,768\n",
      "      BatchNorm2d-26          [-1, 128, 56, 56]             256\n",
      "             ReLU-27          [-1, 128, 56, 56]               0\n",
      "           Conv2d-28          [-1, 128, 56, 56]           4,608\n",
      "      BatchNorm2d-29          [-1, 128, 56, 56]             256\n",
      "             ReLU-30          [-1, 128, 56, 56]               0\n",
      "           Conv2d-31          [-1, 256, 56, 56]          32,768\n",
      "      BatchNorm2d-32          [-1, 256, 56, 56]             512\n",
      "       BottleNeck-33          [-1, 256, 56, 56]               0\n",
      "           Conv2d-34          [-1, 256, 56, 56]          65,536\n",
      "      BatchNorm2d-35          [-1, 256, 56, 56]             512\n",
      "             ReLU-36          [-1, 256, 56, 56]               0\n",
      "           Conv2d-37          [-1, 256, 28, 28]          18,432\n",
      "      BatchNorm2d-38          [-1, 256, 28, 28]             512\n",
      "             ReLU-39          [-1, 256, 28, 28]               0\n",
      "           Conv2d-40          [-1, 512, 28, 28]         131,072\n",
      "      BatchNorm2d-41          [-1, 512, 28, 28]           1,024\n",
      "           Conv2d-42          [-1, 512, 28, 28]         131,072\n",
      "      BatchNorm2d-43          [-1, 512, 28, 28]           1,024\n",
      "       BottleNeck-44          [-1, 512, 28, 28]               0\n",
      "           Conv2d-45          [-1, 256, 28, 28]         131,072\n",
      "      BatchNorm2d-46          [-1, 256, 28, 28]             512\n",
      "             ReLU-47          [-1, 256, 28, 28]               0\n",
      "           Conv2d-48          [-1, 256, 28, 28]          18,432\n",
      "      BatchNorm2d-49          [-1, 256, 28, 28]             512\n",
      "             ReLU-50          [-1, 256, 28, 28]               0\n",
      "           Conv2d-51          [-1, 512, 28, 28]         131,072\n",
      "      BatchNorm2d-52          [-1, 512, 28, 28]           1,024\n",
      "       BottleNeck-53          [-1, 512, 28, 28]               0\n",
      "           Conv2d-54          [-1, 256, 28, 28]         131,072\n",
      "      BatchNorm2d-55          [-1, 256, 28, 28]             512\n",
      "             ReLU-56          [-1, 256, 28, 28]               0\n",
      "           Conv2d-57          [-1, 256, 28, 28]          18,432\n",
      "      BatchNorm2d-58          [-1, 256, 28, 28]             512\n",
      "             ReLU-59          [-1, 256, 28, 28]               0\n",
      "           Conv2d-60          [-1, 512, 28, 28]         131,072\n",
      "      BatchNorm2d-61          [-1, 512, 28, 28]           1,024\n",
      "       BottleNeck-62          [-1, 512, 28, 28]               0\n",
      "           Conv2d-63          [-1, 256, 28, 28]         131,072\n",
      "      BatchNorm2d-64          [-1, 256, 28, 28]             512\n",
      "             ReLU-65          [-1, 256, 28, 28]               0\n",
      "           Conv2d-66          [-1, 256, 28, 28]          18,432\n",
      "      BatchNorm2d-67          [-1, 256, 28, 28]             512\n",
      "             ReLU-68          [-1, 256, 28, 28]               0\n",
      "           Conv2d-69          [-1, 512, 28, 28]         131,072\n",
      "      BatchNorm2d-70          [-1, 512, 28, 28]           1,024\n",
      "       BottleNeck-71          [-1, 512, 28, 28]               0\n",
      "           Conv2d-72          [-1, 512, 28, 28]         262,144\n",
      "      BatchNorm2d-73          [-1, 512, 28, 28]           1,024\n",
      "             ReLU-74          [-1, 512, 28, 28]               0\n",
      "           Conv2d-75          [-1, 512, 14, 14]          73,728\n",
      "      BatchNorm2d-76          [-1, 512, 14, 14]           1,024\n",
      "             ReLU-77          [-1, 512, 14, 14]               0\n",
      "           Conv2d-78         [-1, 1024, 14, 14]         524,288\n",
      "      BatchNorm2d-79         [-1, 1024, 14, 14]           2,048\n",
      "           Conv2d-80         [-1, 1024, 14, 14]         524,288\n",
      "      BatchNorm2d-81         [-1, 1024, 14, 14]           2,048\n",
      "       BottleNeck-82         [-1, 1024, 14, 14]               0\n",
      "           Conv2d-83          [-1, 512, 14, 14]         524,288\n",
      "      BatchNorm2d-84          [-1, 512, 14, 14]           1,024\n",
      "             ReLU-85          [-1, 512, 14, 14]               0\n",
      "           Conv2d-86          [-1, 512, 14, 14]          73,728\n",
      "      BatchNorm2d-87          [-1, 512, 14, 14]           1,024\n",
      "             ReLU-88          [-1, 512, 14, 14]               0\n",
      "           Conv2d-89         [-1, 1024, 14, 14]         524,288\n",
      "      BatchNorm2d-90         [-1, 1024, 14, 14]           2,048\n",
      "       BottleNeck-91         [-1, 1024, 14, 14]               0\n",
      "           Conv2d-92          [-1, 512, 14, 14]         524,288\n",
      "      BatchNorm2d-93          [-1, 512, 14, 14]           1,024\n",
      "             ReLU-94          [-1, 512, 14, 14]               0\n",
      "           Conv2d-95          [-1, 512, 14, 14]          73,728\n",
      "      BatchNorm2d-96          [-1, 512, 14, 14]           1,024\n",
      "             ReLU-97          [-1, 512, 14, 14]               0\n",
      "           Conv2d-98         [-1, 1024, 14, 14]         524,288\n",
      "      BatchNorm2d-99         [-1, 1024, 14, 14]           2,048\n",
      "      BottleNeck-100         [-1, 1024, 14, 14]               0\n",
      "          Conv2d-101          [-1, 512, 14, 14]         524,288\n",
      "     BatchNorm2d-102          [-1, 512, 14, 14]           1,024\n",
      "            ReLU-103          [-1, 512, 14, 14]               0\n",
      "          Conv2d-104          [-1, 512, 14, 14]          73,728\n",
      "     BatchNorm2d-105          [-1, 512, 14, 14]           1,024\n",
      "            ReLU-106          [-1, 512, 14, 14]               0\n",
      "          Conv2d-107         [-1, 1024, 14, 14]         524,288\n",
      "     BatchNorm2d-108         [-1, 1024, 14, 14]           2,048\n",
      "      BottleNeck-109         [-1, 1024, 14, 14]               0\n",
      "          Conv2d-110          [-1, 512, 14, 14]         524,288\n",
      "     BatchNorm2d-111          [-1, 512, 14, 14]           1,024\n",
      "            ReLU-112          [-1, 512, 14, 14]               0\n",
      "          Conv2d-113          [-1, 512, 14, 14]          73,728\n",
      "     BatchNorm2d-114          [-1, 512, 14, 14]           1,024\n",
      "            ReLU-115          [-1, 512, 14, 14]               0\n",
      "          Conv2d-116         [-1, 1024, 14, 14]         524,288\n",
      "     BatchNorm2d-117         [-1, 1024, 14, 14]           2,048\n",
      "      BottleNeck-118         [-1, 1024, 14, 14]               0\n",
      "          Conv2d-119          [-1, 512, 14, 14]         524,288\n",
      "     BatchNorm2d-120          [-1, 512, 14, 14]           1,024\n",
      "            ReLU-121          [-1, 512, 14, 14]               0\n",
      "          Conv2d-122          [-1, 512, 14, 14]          73,728\n",
      "     BatchNorm2d-123          [-1, 512, 14, 14]           1,024\n",
      "            ReLU-124          [-1, 512, 14, 14]               0\n",
      "          Conv2d-125         [-1, 1024, 14, 14]         524,288\n",
      "     BatchNorm2d-126         [-1, 1024, 14, 14]           2,048\n",
      "      BottleNeck-127         [-1, 1024, 14, 14]               0\n",
      "          Conv2d-128         [-1, 1024, 14, 14]       1,048,576\n",
      "     BatchNorm2d-129         [-1, 1024, 14, 14]           2,048\n",
      "            ReLU-130         [-1, 1024, 14, 14]               0\n",
      "          Conv2d-131           [-1, 1024, 7, 7]         294,912\n",
      "     BatchNorm2d-132           [-1, 1024, 7, 7]           2,048\n",
      "            ReLU-133           [-1, 1024, 7, 7]               0\n",
      "          Conv2d-134           [-1, 2048, 7, 7]       2,097,152\n",
      "     BatchNorm2d-135           [-1, 2048, 7, 7]           4,096\n",
      "          Conv2d-136           [-1, 2048, 7, 7]       2,097,152\n",
      "     BatchNorm2d-137           [-1, 2048, 7, 7]           4,096\n",
      "      BottleNeck-138           [-1, 2048, 7, 7]               0\n",
      "          Conv2d-139           [-1, 1024, 7, 7]       2,097,152\n",
      "     BatchNorm2d-140           [-1, 1024, 7, 7]           2,048\n",
      "            ReLU-141           [-1, 1024, 7, 7]               0\n",
      "          Conv2d-142           [-1, 1024, 7, 7]         294,912\n",
      "     BatchNorm2d-143           [-1, 1024, 7, 7]           2,048\n",
      "            ReLU-144           [-1, 1024, 7, 7]               0\n",
      "          Conv2d-145           [-1, 2048, 7, 7]       2,097,152\n",
      "     BatchNorm2d-146           [-1, 2048, 7, 7]           4,096\n",
      "      BottleNeck-147           [-1, 2048, 7, 7]               0\n",
      "          Conv2d-148           [-1, 1024, 7, 7]       2,097,152\n",
      "     BatchNorm2d-149           [-1, 1024, 7, 7]           2,048\n",
      "            ReLU-150           [-1, 1024, 7, 7]               0\n",
      "          Conv2d-151           [-1, 1024, 7, 7]         294,912\n",
      "     BatchNorm2d-152           [-1, 1024, 7, 7]           2,048\n",
      "            ReLU-153           [-1, 1024, 7, 7]               0\n",
      "          Conv2d-154           [-1, 2048, 7, 7]       2,097,152\n",
      "     BatchNorm2d-155           [-1, 2048, 7, 7]           4,096\n",
      "      BottleNeck-156           [-1, 2048, 7, 7]               0\n",
      "AdaptiveAvgPool2d-157           [-1, 2048, 1, 1]               0\n",
      "          Linear-158                  [-1, 256]         524,544\n",
      "            ReLU-159                  [-1, 256]               0\n",
      "         Dropout-160                  [-1, 256]               0\n",
      "          Linear-161                    [-1, 5]           1,285\n",
      "================================================================\n",
      "Total params: 23,505,733\n",
      "Trainable params: 23,505,733\n",
      "Non-trainable params: 0\n",
      "----------------------------------------------------------------\n",
      "Input size (MB): 0.57\n",
      "Forward/backward pass size (MB): 319.67\n",
      "Params size (MB): 89.67\n",
      "Estimated Total Size (MB): 409.91\n",
      "----------------------------------------------------------------\n"
     ]
    }
   ],
   "source": [
    "# using torchsummary check network and params\n",
    "from torchsummary import summary\n",
    "summary(model, input_size=(3, 224, 224))"
   ]
  },
  {
   "cell_type": "markdown",
   "metadata": {
    "id": "83imqLRQ0v7M"
   },
   "source": [
    "We have made our model!  \n",
    "Next, PyTorch also provide many utility function(loss, optmizer...etc).  \n",
    "You can define them in one-line."
   ]
  },
  {
   "cell_type": "markdown",
   "metadata": {
    "id": "FtOkPO6Ga0Fw"
   },
   "source": [
    "### Define loss and optimizer"
   ]
  },
  {
   "cell_type": "code",
   "execution_count": 23,
   "metadata": {
    "id": "IoePct00RIFY"
   },
   "outputs": [],
   "source": [
    "import torch.nn as nn\n",
    "import torch.optim as optim\n",
    "################################################################################\n",
    "# TODO: Define loss and optmizer functions                                     #\n",
    "# Try any loss or optimizer function and learning rate to get better result    #\n",
    "# hint: torch.nn and torch.optim                                               #\n",
    "################################################################################\n",
    "criterion = nn.CrossEntropyLoss()\n",
    "optimizer = optim.SGD(model.parameters(), lr=1e-2, momentum=0.9)\n",
    "################################################################################\n",
    "#                               End of your code                               #\n",
    "################################################################################\n",
    "# criterion = criterion.cuda()"
   ]
  },
  {
   "cell_type": "markdown",
   "metadata": {
    "id": "zle9KuFcbwMP"
   },
   "source": [
    "### Train the model"
   ]
  },
  {
   "cell_type": "markdown",
   "metadata": {
    "id": "bZFxE7Y9iLfl"
   },
   "source": [
    "#### Train function\n",
    "Let's define train function.  \n",
    "It will iterate input data 1 epoch and update model with optmizer.  \n",
    "Finally, calculate mean loss and total accuracy.\n",
    "\n",
    "Hint: [torch.max()](https://pytorch.org/docs/stable/generated/torch.max.html#torch-max)"
   ]
  },
  {
   "cell_type": "code",
   "execution_count": 13,
   "metadata": {
    "id": "VM93brDshO6E"
   },
   "outputs": [],
   "source": [
    "def train(input_data, model, criterion, optimizer):\n",
    "    '''\n",
    "    Argement:\n",
    "    input_data -- iterable data, typr torch.utils.data.Dataloader is prefer\n",
    "    model -- nn.Module, model contain forward to predict output\n",
    "    criterion -- loss function, used to evaluate goodness of model\n",
    "    optimizer -- optmizer function, method for weight updating\n",
    "    '''\n",
    "    model.train()\n",
    "    loss_list = []\n",
    "    total_count = 0\n",
    "    acc_count = 0\n",
    "    for i, data in enumerate(input_data, 0):\n",
    "        images, labels = data[0].cuda(), data[1].cuda()\n",
    "        \n",
    "        ########################################################################\n",
    "        # TODO: Forward, backward and optimize                                 #\n",
    "        # 1. zero the parameter gradients                                      #\n",
    "        # 2. process input through the network                                 #\n",
    "        # 3. compute the loss                                                  #\n",
    "        # 4. propagate gradients back into the network’s parameters            #\n",
    "        # 5. Update the weights of the network                                 #\n",
    "        ########################################################################\n",
    "        optimizer.zero_grad()\n",
    "        outputs = model(images)\n",
    "        loss = criterion(outputs, labels)\n",
    "        loss.backward()\n",
    "        optimizer.step()\n",
    "        ########################################################################\n",
    "        #                           End of your code                           #\n",
    "        ########################################################################\n",
    "\n",
    "\n",
    "        ########################################################################\n",
    "        # TODO: Get the counts of correctly classified images                  #\n",
    "        # 1. get the model predicted result                                    #\n",
    "        # 2. sum the number of this batch predicted images                     #\n",
    "        # 3. sum the number of correctly classified                            #\n",
    "        # 4. save this batch's loss into loss_list                             #\n",
    "        # dimension of outputs: [batch_size, number of classes]                #\n",
    "        # Hint 1: use outputs.data to get no auto_grad                         #\n",
    "        # Hint 2: use torch.max()                                              #\n",
    "        ########################################################################\n",
    "        pred = torch.argmax(outputs, dim=1)\n",
    "        acc_count += (pred == labels).sum().item()\n",
    "        total_count += images.shape[0]\n",
    "        loss_list.append(loss.item())\n",
    "        ########################################################################\n",
    "        #                           End of your code                           #\n",
    "        ########################################################################\n",
    "\n",
    "    # Compute this epoch accuracy and loss\n",
    "    acc = acc_count / total_count\n",
    "    loss = sum(loss_list) / len(loss_list)\n",
    "    return acc, loss"
   ]
  },
  {
   "cell_type": "markdown",
   "metadata": {
    "id": "KmDy1GTq_H2a"
   },
   "source": [
    "#### Validate function\n",
    "Next part is validate function.  \n",
    "It works as training function without optmizer and weight-updating part."
   ]
  },
  {
   "cell_type": "code",
   "execution_count": 14,
   "metadata": {
    "id": "USzbBgGEoTRu"
   },
   "outputs": [],
   "source": [
    "def val(input_data, model, criterion):\n",
    "    model.eval()\n",
    "    \n",
    "    loss_list = []\n",
    "    total_count = 0\n",
    "    acc_count = 0\n",
    "    with torch.no_grad():\n",
    "        for data in input_data:\n",
    "            images, labels = data[0].cuda(), data[1].cuda()\n",
    "\n",
    "            ####################################################################\n",
    "            # TODO: Get the predicted result and loss                          #\n",
    "            # 1. process input through the network                             #\n",
    "            # 2. compute the loss                                              #\n",
    "            # 3. get the model predicted result                                #\n",
    "            # 4. get the counts of correctly classified images                 #\n",
    "            # 5. save this batch's loss into loss_list                         #\n",
    "            ####################################################################\n",
    "            outputs = model(images)\n",
    "            loss = criterion(outputs, labels)\n",
    "            \n",
    "            pred = torch.argmax(outputs, dim=1)\n",
    "            acc_count += (pred == labels).sum().item()\n",
    "            total_count += images.shape[0]\n",
    "            loss_list.append(loss.item())\n",
    "            ####################################################################\n",
    "            #                         End of your code                         #\n",
    "            ####################################################################\n",
    "\n",
    "    acc = acc_count / total_count\n",
    "    loss = sum(loss_list) / len(loss_list)\n",
    "    return acc, loss"
   ]
  },
  {
   "cell_type": "markdown",
   "metadata": {
    "id": "knXu74jCiuxP"
   },
   "source": [
    "#### Training in a loop\n",
    "Call train and test function in a loop.  \n",
    "Take a break and wait."
   ]
  },
  {
   "cell_type": "code",
   "execution_count": 27,
   "metadata": {
    "colab": {
     "base_uri": "https://localhost:8080/",
     "height": 296
    },
    "id": "rcVulKkFJRtI",
    "outputId": "13055c06-941e-4ff0-86da-2840e1103aed"
   },
   "outputs": [
    {
     "name": "stdout",
     "output_type": "stream",
     "text": [
      "==================== Epoch 51 ====================\n",
      "Train Acc: 0.697301 Train Loss: 0.778310\n",
      "  Val Acc: 0.703085   Val Loss: 0.734941\n",
      "==================== Epoch 52 ====================\n",
      "Train Acc: 0.693445 Train Loss: 0.786196\n",
      "  Val Acc: 0.696658   Val Loss: 0.831493\n",
      "==================== Epoch 53 ====================\n",
      "Train Acc: 0.702121 Train Loss: 0.771395\n",
      "  Val Acc: 0.724936   Val Loss: 0.757244\n",
      "==================== Epoch 54 ====================\n",
      "Train Acc: 0.669023 Train Loss: 0.857340\n",
      "  Val Acc: 0.712082   Val Loss: 0.785891\n",
      "==================== Epoch 55 ====================\n",
      "Train Acc: 0.700514 Train Loss: 0.776444\n",
      "  Val Acc: 0.664524   Val Loss: 0.842230\n",
      "==================== Epoch 56 ====================\n",
      "Train Acc: 0.710797 Train Loss: 0.752816\n",
      "  Val Acc: 0.733933   Val Loss: 0.754134\n",
      "==================== Epoch 57 ====================\n",
      "Train Acc: 0.709190 Train Loss: 0.753632\n",
      "  Val Acc: 0.745501   Val Loss: 0.717792\n",
      "==================== Epoch 58 ====================\n",
      "Train Acc: 0.720437 Train Loss: 0.734420\n",
      "  Val Acc: 0.745501   Val Loss: 0.686443\n",
      "==================== Epoch 59 ====================\n",
      "Train Acc: 0.714653 Train Loss: 0.743297\n",
      "  Val Acc: 0.741645   Val Loss: 0.809046\n",
      "==================== Epoch 60 ====================\n",
      "Train Acc: 0.723329 Train Loss: 0.735843\n",
      "  Val Acc: 0.767352   Val Loss: 0.673244\n",
      "==================== Epoch 61 ====================\n",
      "Train Acc: 0.734576 Train Loss: 0.709893\n",
      "  Val Acc: 0.751928   Val Loss: 0.688879\n",
      "==================== Epoch 62 ====================\n",
      "Train Acc: 0.726542 Train Loss: 0.710792\n",
      "  Val Acc: 0.750643   Val Loss: 0.752098\n",
      "==================== Epoch 63 ====================\n",
      "Train Acc: 0.731362 Train Loss: 0.713540\n",
      "  Val Acc: 0.730077   Val Loss: 0.712238\n",
      "==================== Epoch 64 ====================\n",
      "Train Acc: 0.725900 Train Loss: 0.701573\n",
      "  Val Acc: 0.767352   Val Loss: 0.686549\n",
      "==================== Epoch 65 ====================\n",
      "Train Acc: 0.739075 Train Loss: 0.687024\n",
      "  Val Acc: 0.772494   Val Loss: 0.751430\n",
      "==================== Epoch 66 ====================\n",
      "Train Acc: 0.751607 Train Loss: 0.683864\n",
      "  Val Acc: 0.764781   Val Loss: 0.697027\n",
      "==================== Epoch 67 ====================\n",
      "Train Acc: 0.735219 Train Loss: 0.702720\n",
      "  Val Acc: 0.760925   Val Loss: 0.661462\n",
      "==================== Epoch 68 ====================\n",
      "Train Acc: 0.723972 Train Loss: 0.749279\n",
      "  Val Acc: 0.737789   Val Loss: 0.776566\n",
      "==================== Epoch 69 ====================\n",
      "Train Acc: 0.729434 Train Loss: 0.726770\n",
      "  Val Acc: 0.764781   Val Loss: 0.643485\n",
      "==================== Epoch 70 ====================\n",
      "Train Acc: 0.735219 Train Loss: 0.695703\n",
      "  Val Acc: 0.757069   Val Loss: 0.688480\n",
      "==================== Epoch 71 ====================\n",
      "Train Acc: 0.752249 Train Loss: 0.669531\n",
      "  Val Acc: 0.775064   Val Loss: 0.638746\n",
      "==================== Epoch 72 ====================\n",
      "Train Acc: 0.761568 Train Loss: 0.661356\n",
      "  Val Acc: 0.757069   Val Loss: 0.667777\n",
      "==================== Epoch 73 ====================\n",
      "Train Acc: 0.745180 Train Loss: 0.693918\n",
      "  Val Acc: 0.736504   Val Loss: 1.623922\n",
      "==================== Epoch 74 ====================\n",
      "Train Acc: 0.759640 Train Loss: 0.643641\n",
      "  Val Acc: 0.749357   Val Loss: 0.664824\n",
      "==================== Epoch 75 ====================\n",
      "Train Acc: 0.749357 Train Loss: 0.680158\n",
      "  Val Acc: 0.766067   Val Loss: 0.642843\n",
      "==================== Epoch 76 ====================\n",
      "Train Acc: 0.747108 Train Loss: 0.677682\n",
      "  Val Acc: 0.775064   Val Loss: 0.619492\n",
      "==================== Epoch 77 ====================\n",
      "Train Acc: 0.758676 Train Loss: 0.661178\n",
      "  Val Acc: 0.757069   Val Loss: 0.655020\n",
      "==================== Epoch 78 ====================\n",
      "Train Acc: 0.753213 Train Loss: 0.649565\n",
      "  Val Acc: 0.721080   Val Loss: 0.859877\n",
      "==================== Epoch 79 ====================\n",
      "Train Acc: 0.770244 Train Loss: 0.617575\n",
      "  Val Acc: 0.772494   Val Loss: 0.645541\n",
      "==================== Epoch 80 ====================\n",
      "Train Acc: 0.764781 Train Loss: 0.630295\n",
      "  Val Acc: 0.778920   Val Loss: 0.662601\n",
      "==================== Epoch 81 ====================\n",
      "Train Acc: 0.761247 Train Loss: 0.639806\n",
      "  Val Acc: 0.787918   Val Loss: 0.649637\n",
      "==================== Epoch 82 ====================\n",
      "Train Acc: 0.764781 Train Loss: 0.613530\n",
      "  Val Acc: 0.740360   Val Loss: 0.712438\n",
      "==================== Epoch 83 ====================\n",
      "Train Acc: 0.781491 Train Loss: 0.596172\n",
      "  Val Acc: 0.764781   Val Loss: 0.684320\n",
      "==================== Epoch 84 ====================\n",
      "Train Acc: 0.775064 Train Loss: 0.631179\n",
      "  Val Acc: 0.767352   Val Loss: 0.668601\n",
      "==================== Epoch 85 ====================\n",
      "Train Acc: 0.758033 Train Loss: 0.639889\n",
      "  Val Acc: 0.790488   Val Loss: 0.563743\n",
      "==================== Epoch 86 ====================\n",
      "Train Acc: 0.785026 Train Loss: 0.577132\n",
      "  Val Acc: 0.766067   Val Loss: 0.743989\n",
      "==================== Epoch 87 ====================\n",
      "Train Acc: 0.782776 Train Loss: 0.603979\n",
      "  Val Acc: 0.793059   Val Loss: 0.567954\n",
      "==================== Epoch 88 ====================\n",
      "Train Acc: 0.769602 Train Loss: 0.620016\n",
      "  Val Acc: 0.793059   Val Loss: 0.645771\n",
      "==================== Epoch 89 ====================\n",
      "Train Acc: 0.780206 Train Loss: 0.568250\n",
      "  Val Acc: 0.772494   Val Loss: 0.697269\n",
      "==================== Epoch 90 ====================\n",
      "Train Acc: 0.780848 Train Loss: 0.603253\n",
      "  Val Acc: 0.786632   Val Loss: 0.611590\n",
      "==================== Epoch 91 ====================\n",
      "Train Acc: 0.798522 Train Loss: 0.560500\n",
      "  Val Acc: 0.789203   Val Loss: 0.669425\n",
      "==================== Epoch 92 ====================\n",
      "Train Acc: 0.791131 Train Loss: 0.569511\n",
      "  Val Acc: 0.780206   Val Loss: 0.657111\n",
      "==================== Epoch 93 ====================\n",
      "Train Acc: 0.767995 Train Loss: 0.636980\n",
      "  Val Acc: 0.796915   Val Loss: 0.601787\n",
      "==================== Epoch 94 ====================\n",
      "Train Acc: 0.768959 Train Loss: 0.644433\n",
      "  Val Acc: 0.768638   Val Loss: 0.661245\n",
      "==================== Epoch 95 ====================\n",
      "Train Acc: 0.785026 Train Loss: 0.590392\n",
      "  Val Acc: 0.793059   Val Loss: 0.608019\n",
      "==================== Epoch 96 ====================\n",
      "Train Acc: 0.785990 Train Loss: 0.570583\n",
      "  Val Acc: 0.785347   Val Loss: 0.692405\n",
      "==================== Epoch 97 ====================\n",
      "Train Acc: 0.789524 Train Loss: 0.555958\n",
      "  Val Acc: 0.758355   Val Loss: 0.741549\n",
      "==================== Epoch 98 ====================\n",
      "Train Acc: 0.792095 Train Loss: 0.578882\n",
      "  Val Acc: 0.818766   Val Loss: 0.528298\n",
      "==================== Epoch 99 ====================\n",
      "Train Acc: 0.782134 Train Loss: 0.588918\n",
      "  Val Acc: 0.808483   Val Loss: 0.552410\n",
      "==================== Epoch 100 ====================\n",
      "Train Acc: 0.791452 Train Loss: 0.575302\n",
      "  Val Acc: 0.816195   Val Loss: 0.565708\n"
     ]
    }
   ],
   "source": [
    "################################################################################\n",
    "# You can adjust those hyper parameters to loop for max_epochs times           #\n",
    "################################################################################\n",
    "max_epochs = 100\n",
    "log_interval = 1 # print acc and loss in per log_interval time\n",
    "# threshold to save checkpoints\n",
    "max_loss = 0.7\n",
    "max_acc = 0.7\n",
    "################################################################################\n",
    "#                               End of your code                               #\n",
    "################################################################################\n",
    "train_acc_list = []\n",
    "train_loss_list = []\n",
    "val_acc_list = []\n",
    "val_loss_list = []\n",
    "\n",
    "for epoch in range(51, max_epochs + 1):\n",
    "    train_acc, train_loss = train(train_loader, model, criterion, optimizer)\n",
    "    val_acc, val_loss = val(val_loader, model, criterion)\n",
    "\n",
    "    train_acc_list.append(train_acc)\n",
    "    train_loss_list.append(train_loss)\n",
    "    val_acc_list.append(val_acc)\n",
    "    val_loss_list.append(val_loss)\n",
    "    \n",
    "    # if get lower loss, save checkpoint\n",
    "    if val_loss < max_loss:\n",
    "        max_loss = val_loss\n",
    "        torch.save(model.state_dict(), 'res_e{:03}_val_loss_{:.02}.pt'.format(epoch, val_loss))\n",
    "    # if get higher acc, save checkpoint\n",
    "    if val_acc > max_acc:\n",
    "        max_acc = val_acc\n",
    "        torch.save(model.state_dict(), 'res_acc_e{:03}_val_acc_{:.02}.pt'.format(epoch, val_acc))\n",
    "    if epoch % log_interval == 0:\n",
    "        print('=' * 20, 'Epoch', epoch, '=' * 20)\n",
    "        print('Train Acc: {:.6f} Train Loss: {:.6f}'.format(train_acc, train_loss))\n",
    "        print('  Val Acc: {:.6f}   Val Loss: {:.6f}'.format(val_acc, val_loss))"
   ]
  },
  {
   "cell_type": "markdown",
   "metadata": {
    "id": "W5pW9zcKAN-2"
   },
   "source": [
    "#### Visualize accuracy and loss"
   ]
  },
  {
   "cell_type": "code",
   "execution_count": 25,
   "metadata": {
    "id": "4ifzgfp7iq2m"
   },
   "outputs": [
    {
     "data": {
      "image/png": "[encoded data removed]",
      "text/plain": [
       "<Figure size 864x288 with 1 Axes>"
      ]
     },
     "metadata": {
      "needs_background": "light"
     },
     "output_type": "display_data"
    }
   ],
   "source": [
    "import matplotlib.pyplot as plt\n",
    "\n",
    "plt.figure(figsize=(12, 4))\n",
    "plt.plot(range(len(train_loss_list)), train_loss_list)\n",
    "plt.plot(range(len(val_loss_list)), val_loss_list, c='r')\n",
    "plt.legend(['train', 'val'])\n",
    "plt.title('Loss')\n",
    "# plt.savefig('loss.png')÷\n",
    "plt.plot(range(len(train_acc_list)), train_acc_list)\n",
    "plt.plot(range(len(val_acc_list)), val_acc_list, c='r')\n",
    "plt.legend(['train', 'val'])\n",
    "plt.title('Acc')\n",
    "plt.savefig('acc_loss.png')\n",
    "# plt.show()"
   ]
  },
  {
   "cell_type": "markdown",
   "metadata": {
    "id": "zMYSgO5viYOk"
   },
   "source": [
    "### Predict Result\n",
    "\n",
    "預測`test`並將結果上傳至Kaggle。[**連結**](https://www.kaggle.com/t/a16786b7da97419f9ba90b495dab08aa)\n",
    "\n",
    "執行完畢此區的程式碼後，會將`test`預測完的結果存下來。\n",
    "\n",
    "上傳流程\n",
    "1. 點選左側選單最下方的資料夾圖示\n",
    "2. 右鍵「result.csv」\n",
    "3. 點選「Download」\n",
    "4. 至連結網頁點選「Submit Predictions」\n",
    "5. 將剛剛下載的檔案上傳\n",
    "6. 系統會計算並公布其中70%資料的正確率"
   ]
  },
  {
   "cell_type": "code",
   "execution_count": 24,
   "metadata": {},
   "outputs": [
    {
     "data": {
      "text/plain": [
       "<All keys matched successfully>"
      ]
     },
     "execution_count": 24,
     "metadata": {},
     "output_type": "execute_result"
    }
   ],
   "source": [
    "# model = torch.load('res_e125_val_loss_0.43.pt')\n",
    "ckpt = torch.load('res_acc_e191_val_acc_0.88.pt')\n",
    "model.load_state_dict(ckpt) "
   ]
  },
  {
   "cell_type": "code",
   "execution_count": 16,
   "metadata": {
    "id": "SiyK25P6KXrn"
   },
   "outputs": [],
   "source": [
    "def predict(input_data, model):\n",
    "    model.eval()\n",
    "    output_list = []\n",
    "    with torch.no_grad():\n",
    "        for data in input_data:\n",
    "            images = data.cuda()\n",
    "            outputs = model(images)\n",
    "            _, predicted = torch.max(outputs.data, 1)\n",
    "            output_list.extend(predicted.to('cpu').numpy().tolist())\n",
    "    return output_list"
   ]
  },
  {
   "cell_type": "code",
   "execution_count": 25,
   "metadata": {
    "id": "0I0LN7HwpnsX"
   },
   "outputs": [],
   "source": [
    "idx = 0\n",
    "output_csv = predict(test_loader, model)\n",
    "with open('result.csv', 'w', newline='') as csvFile:\n",
    "    writer = csv.DictWriter(csvFile, fieldnames=['Id', 'Category'])\n",
    "    writer.writeheader()\n",
    "    for result in output_csv:\n",
    "        idx+=1\n",
    "        writer.writerow({'Id':idx, 'Category':result})"
   ]
  },
  {
   "cell_type": "markdown",
   "metadata": {
    "id": "4XTB6EF6mH2Q"
   },
   "source": [
    "# Keep trying and write report\n",
    "\n",
    "持續調整模型、訓練方法、損失函數、優化器等，來訓練出更好的模型，並記錄使用不同參數得出的效果，以利後續 Report 的撰寫。\n",
    "\n",
    "大家加油！"
   ]
  }
 ],
 "metadata": {
  "accelerator": "GPU",
  "colab": {
   "collapsed_sections": [],
   "name": "Assignment_3_flower_classification.ipynb",
   "provenance": [],
   "toc_visible": true
  },
  "kernelspec": {
   "display_name": "Python 3",
   "language": "python",
   "name": "python3"
  },
  "language_info": {
   "codemirror_mode": {
    "name": "ipython",
    "version": 3
   },
   "file_extension": ".py",
   "mimetype": "text/x-python",
   "name": "python",
   "nbconvert_exporter": "python",
   "pygments_lexer": "ipython3",
   "version": "3.6.8"
  }
 },
 "nbformat": 4,
 "nbformat_minor": 4
}
